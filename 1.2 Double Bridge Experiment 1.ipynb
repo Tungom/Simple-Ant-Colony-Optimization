{
 "cells": [
  {
   "cell_type": "markdown",
   "metadata": {},
   "source": [
    "# Experiment 1\n",
    "\n",
    "- In this Experiment we need to check if the pheromone concertration is more on the short or long arc\n",
    "\n",
    "## 1.1 Checking Pheromone on arcs\n",
    "\n",
    "- First we need to store the long path and the short path\n",
    "- After Each run is terminated, we will compare where there is more pheromone\n",
    "- The Long path is `[0, 1, 2, 3, 4, 5, 6, 7, 8]`\n",
    "- The short paths are `[0, 9, 10, 12, 13, 8]` and `[0, 9, 14, 17, 13, 8]`\n",
    "\n",
    "## 1.2 Calculating Pheromone on Path\n",
    "\n",
    "- the amount of pheromone on the path is the sum of pheromones on each arc in the path\n",
    "- we demostrate below how we can compare the total amount of pheromone on the paths"
   ]
  },
  {
   "cell_type": "code",
   "execution_count": 1,
   "metadata": {},
   "outputs": [
    {
     "data": {
      "text/plain": [
       "(4.09356032136258, 2.749586599635782, 2.4807152995392303)"
      ]
     },
     "execution_count": 1,
     "metadata": {},
     "output_type": "execute_result"
    }
   ],
   "source": [
    "# Make a Pheromone Matrix\n",
    "\n",
    "import random\n",
    "Pheromone = [[random.random() for i in range(18)] for j in range(18)]\n",
    "\n",
    "longpath = [0, 1, 2, 3, 4, 5, 6, 7, 8]\n",
    "Shortpath1 = [0, 9, 10, 12, 13, 8]\n",
    "Shortpath2 = [0, 9, 14, 17, 13, 8]\n",
    "\n",
    "LongPher = [Pheromone[j][longpath[i+1]] for i,j in enumerate(longpath) if i < len(longpath)-1]\n",
    "ShortPher1 = [Pheromone[j][Shortpath1[i+1]] for i,j in enumerate(Shortpath1) if i < len(Shortpath1)-1]\n",
    "ShortPher2 = [Pheromone[j][Shortpath2[i+1]] for i,j in enumerate(Shortpath2) if i < len(Shortpath2)-1]\n",
    "\n",
    "sum(LongPher), sum(ShortPher1), sum(ShortPher2)"
   ]
  },
  {
   "cell_type": "markdown",
   "metadata": {},
   "source": [
    "# 1.3 Define Experiment Parameters\n",
    "- In this experiment, we are going to run 100 trials\n",
    "- One trial will undergo 110 iterations \n",
    "- Ant populations will be incremented as follows: 1, 2, 4, 8, ... , 512\n",
    "- alpha and rho will be 2 and 0 respectively\n",
    "- At the end of each trial, we will use the pheromone matrix to check if pheromone is more on the long or short path"
   ]
  },
  {
   "cell_type": "code",
   "execution_count": 2,
   "metadata": {},
   "outputs": [],
   "source": [
    "Trials = 100\n",
    "Num_Ants = [i**2 for i in range(1,20)]\n",
    "alpha = 2\n",
    "rho = 0\n",
    "\n",
    "longpath = [0, 1, 2, 3, 4, 5, 6, 7, 8]\n",
    "Shortpath1 = [0, 9, 10, 12, 13, 8]\n",
    "Shortpath2 = [0, 9, 14, 17, 13, 8]"
   ]
  },
  {
   "cell_type": "markdown",
   "metadata": {},
   "source": [
    "# 1.4 Define Function Experimental Runs"
   ]
  },
  {
   "cell_type": "code",
   "execution_count": 3,
   "metadata": {},
   "outputs": [
    {
     "name": "stdout",
     "output_type": "stream",
     "text": [
      " For  1  Ants the Number of Long Paths are  88  in 100\n",
      " For  4  Ants the Number of Long Paths are  92  in 100\n",
      " For  9  Ants the Number of Long Paths are  91  in 100\n",
      " For  16  Ants the Number of Long Paths are  95  in 100\n",
      " For  25  Ants the Number of Long Paths are  83  in 100\n",
      " For  36  Ants the Number of Long Paths are  86  in 100\n",
      " For  49  Ants the Number of Long Paths are  93  in 100\n",
      " For  64  Ants the Number of Long Paths are  90  in 100\n",
      " For  81  Ants the Number of Long Paths are  93  in 100\n",
      " For  100  Ants the Number of Long Paths are  89  in 100\n",
      " For  121  Ants the Number of Long Paths are  91  in 100\n",
      " For  144  Ants the Number of Long Paths are  85  in 100\n",
      " For  169  Ants the Number of Long Paths are  85  in 100\n",
      " For  196  Ants the Number of Long Paths are  90  in 100\n",
      " For  225  Ants the Number of Long Paths are  92  in 100\n",
      " For  256  Ants the Number of Long Paths are  90  in 100\n",
      " For  289  Ants the Number of Long Paths are  81  in 100\n",
      " For  324  Ants the Number of Long Paths are  92  in 100\n",
      " For  361  Ants the Number of Long Paths are  93  in 100\n"
     ]
    }
   ],
   "source": [
    "def RunExperiment(numtrials, num_ants, alpha, rho):\n",
    "    Longs = 0\n",
    "    \n",
    "    i = 0\n",
    "    while i < numtrials:\n",
    "        \n",
    "        #PRM = SACO(EDBM, takeoff, destination, population, alpha, rho, iterations)[\"PRM\"]\n",
    "        PRM = [[random.random() for i in range(18)] for j in range(18)]\n",
    "        \n",
    "        LongPher = sum([PRM[j][longpath[i+1]] for i,j in enumerate(longpath) if i < len(longpath)-1])\n",
    "        ShortPher1 = sum([PRM[j][Shortpath1[i+1]] for i,j in enumerate(Shortpath1) if i < len(Shortpath1)-1])\n",
    "        ShortPher2 = sum([PRM[j][Shortpath2[i+1]] for i,j in enumerate(Shortpath2) if i < len(Shortpath2)-1])\n",
    "        \n",
    "        if LongPher > ShortPher1 and LongPher > ShortPher2:\n",
    "            Longs += 1\n",
    "        \n",
    "        i += 1\n",
    "    \n",
    "    return Longs\n",
    "\n",
    "for pop in Num_Ants:\n",
    "    print(\" For \", pop, \" Ants the Number of Long Paths are \", RunExperiment(Trials, pop , alpha, rho), \" in 100\")"
   ]
  },
  {
   "cell_type": "markdown",
   "metadata": {},
   "source": [
    "# 1.5 Experiment Proper\n",
    "\n",
    "- import the SACO algorithm \n",
    "- import the graph problems \n",
    "- Define experiment paramters and run "
   ]
  },
  {
   "cell_type": "code",
   "execution_count": 4,
   "metadata": {},
   "outputs": [],
   "source": [
    "import graphs\n",
    "import SACOAs\n",
    "graph = graphs.graph1"
   ]
  },
  {
   "cell_type": "code",
   "execution_count": 8,
   "metadata": {},
   "outputs": [],
   "source": [
    "def RunExperiment(Trials, Num_Ants, alpha, rho):\n",
    "    \"\"\" Trials: Number of trial runs \n",
    "        NUm_Ants: Population of ants int\n",
    "        alpha: pheromone influence\n",
    "        rho: evaporation rate \n",
    "        \n",
    "        return number of Long paths found\"\"\"\n",
    "    Longs = 0\n",
    "    \n",
    "    i = 0\n",
    "    while i < Trials:\n",
    "        \n",
    "        #PRM = SACO(EDBM, takeoff, destination, population, alpha, rho, iterations)[\"PRM\"]\n",
    "        PRM = SACOAs.SACO(graph, takeoff, destination, Num_Ants, alpha, rho, \n",
    "                   iterations, dropout, bycost)[\"PRM\"]\n",
    "\n",
    "        LongPher = sum([PRM[j][longpath[i+1]] for i,j in enumerate(longpath) if i < len(longpath)-1])\n",
    "        ShortPher1 = sum([PRM[j][Shortpath1[i+1]] for i,j in enumerate(Shortpath1) if i < len(Shortpath1)-1])\n",
    "        ShortPher2 = sum([PRM[j][Shortpath2[i+1]] for i,j in enumerate(Shortpath2) if i < len(Shortpath2)-1])\n",
    "        if LongPher > ShortPher1 and LongPher > ShortPher2:\n",
    "            Longs += 1\n",
    "        \n",
    "        i += 1\n",
    "    \n",
    "    return Longs"
   ]
  },
  {
   "cell_type": "code",
   "execution_count": 20,
   "metadata": {},
   "outputs": [],
   "source": [
    "Trials = 100\n",
    "Num_Ants = [i**2 for i in range(1,5)]\n",
    "alpha = 2\n",
    "rho = 0\n",
    "#----------------------------------------"
   ]
  },
  {
   "cell_type": "markdown",
   "metadata": {},
   "source": [
    "# 1.5.1 Run with path dependent pheromone update"
   ]
  },
  {
   "cell_type": "code",
   "execution_count": 21,
   "metadata": {},
   "outputs": [
    {
     "name": "stdout",
     "output_type": "stream",
     "text": [
      " For  1  Ants the Number of Long Paths are  29  in  100\n",
      " For  4  Ants the Number of Long Paths are  9  in  100\n",
      " For  9  Ants the Number of Long Paths are  1  in  100\n",
      " For  16  Ants the Number of Long Paths are  0  in  100\n"
     ]
    }
   ],
   "source": [
    "\n",
    "iterations = 100\n",
    "takeoff = 0\n",
    "destination = 8\n",
    "dropout = False\n",
    "bycost = True\n",
    "\n",
    "for pop in Num_Ants:\n",
    "    print(\" For \", pop, \" Ants the Number of Long Paths are \", RunExperiment(Trials, pop , alpha, rho), \" in \", Trials)"
   ]
  },
  {
   "cell_type": "markdown",
   "metadata": {},
   "source": [
    "# 1.5.1 Run with Constant pheromone update"
   ]
  },
  {
   "cell_type": "code",
   "execution_count": 12,
   "metadata": {},
   "outputs": [
    {
     "name": "stdout",
     "output_type": "stream",
     "text": [
      " For  1  Ants the Number of Long Paths are  2  in  25\n",
      " For  4  Ants the Number of Long Paths are  3  in  25\n",
      " For  9  Ants the Number of Long Paths are  2  in  25\n",
      " For  16  Ants the Number of Long Paths are  0  in  25\n"
     ]
    }
   ],
   "source": [
    "iterations = 100\n",
    "takeoff = 0\n",
    "destination = 8\n",
    "dropout = False\n",
    "bycost = False\n",
    "\n",
    "for pop in Num_Ants:\n",
    "    print(\" For \", pop, \" Ants the Number of Long Paths are \", RunExperiment(Trials, pop , alpha, rho), \" in \", Trials)"
   ]
  },
  {
   "cell_type": "markdown",
   "metadata": {},
   "source": [
    "# 1.6 Bonus \n",
    "\n",
    "### Repeat Expeiments Using Graph 2"
   ]
  },
  {
   "cell_type": "code",
   "execution_count": 14,
   "metadata": {},
   "outputs": [
    {
     "data": {
      "text/plain": [
       "[[0, 0, 0, 1, 0, 1, 0],\n",
       " [0, 0, 1, 1, 0, 0, 0],\n",
       " [0, 1, 0, 1, 1, 0, 0],\n",
       " [1, 1, 1, 0, 1, 1, 0],\n",
       " [0, 0, 1, 1, 0, 0, 1],\n",
       " [1, 0, 0, 1, 0, 0, 1],\n",
       " [0, 0, 0, 0, 1, 1, 0]]"
      ]
     },
     "execution_count": 14,
     "metadata": {},
     "output_type": "execute_result"
    }
   ],
   "source": [
    "graph2 = graphs.graph2\n",
    "graph2"
   ]
  },
  {
   "cell_type": "code",
   "execution_count": 15,
   "metadata": {},
   "outputs": [],
   "source": [
    "iterations = 100\n",
    "takeoff = 0\n",
    "destination = 4\n",
    "pop = 1\n",
    "alpha = 1\n",
    "rho = 0\n",
    "dropout = False\n",
    "bycost = True\n",
    "\n",
    "SOLUTION = SACOAs.SACO(graph2, takeoff, destination, pop, alpha, rho, \n",
    "                   iterations, dropout, bycost)"
   ]
  },
  {
   "cell_type": "code",
   "execution_count": 16,
   "metadata": {},
   "outputs": [
    {
     "data": {
      "text/plain": [
       "[0, 3, 4]"
      ]
     },
     "execution_count": 16,
     "metadata": {},
     "output_type": "execute_result"
    }
   ],
   "source": [
    "SOLUTION[\"Ants\"][\"Ant1\"]"
   ]
  },
  {
   "cell_type": "code",
   "execution_count": 17,
   "metadata": {},
   "outputs": [
    {
     "data": {
      "text/plain": [
       "<matplotlib.colorbar.Colorbar at 0x198f4882860>"
      ]
     },
     "execution_count": 17,
     "metadata": {},
     "output_type": "execute_result"
    }
   ],
   "source": [
    "import numpy as np\n",
    "import matplotlib.pyplot as plt\n",
    "\n",
    "data = np.array(SOLUTION[\"PRM\"])\n",
    "hm = plt.imshow(data, 'gray', origin='lower')\n",
    "\n",
    "plt.colorbar(hm)"
   ]
  },
  {
   "cell_type": "code",
   "execution_count": 18,
   "metadata": {},
   "outputs": [
    {
     "data": {
      "text/plain": [
       "<matplotlib.colorbar.Colorbar at 0x198f4b8e3c8>"
      ]
     },
     "execution_count": 18,
     "metadata": {},
     "output_type": "execute_result"
    },
    {
     "data": {
      "image/png": "[encoded data removed]",
      "text/plain": [
       "<matplotlib.figure.Figure at 0x198f3717940>"
      ]
     },
     "metadata": {
      "needs_background": "light"
     },
     "output_type": "display_data"
    }
   ],
   "source": [
    "iterations = 100\n",
    "takeoff = 0\n",
    "destination = 4\n",
    "pop = 1\n",
    "alpha = 1\n",
    "rho = 0\n",
    "dropout = False\n",
    "bycost = False\n",
    "\n",
    "SOLUTION = SACOAs.SACO(graph2, takeoff, destination, pop, alpha, rho, \n",
    "                   iterations, dropout, bycost)\n",
    "\n",
    "import numpy as np\n",
    "import matplotlib.pyplot as plt\n",
    "\n",
    "data = np.array(SOLUTION[\"PRM\"])\n",
    "hm = plt.imshow(data, 'gray', origin='lower')\n",
    "plt.colorbar(hm)"
   ]
  },
  {
   "cell_type": "code",
   "execution_count": 19,
   "metadata": {},
   "outputs": [
    {
     "data": {
      "text/plain": [
       "[0, 3, 4]"
      ]
     },
     "execution_count": 19,
     "metadata": {},
     "output_type": "execute_result"
    }
   ],
   "source": [
    "SOLUTION[\"Ants\"][\"Ant1\"]"
   ]
  },
  {
   "cell_type": "markdown",
   "metadata": {},
   "source": [
    "# TODO\n",
    "\n",
    "- Run the experiment and compare the pheromone intensities as done with graph1\n",
    "- Compare the results for different pheromone update methods"
   ]
  },
  {
   "cell_type": "code",
   "execution_count": null,
   "metadata": {},
   "outputs": [],
   "source": []
  }
 ],
 "metadata": {
  "kernelspec": {
   "display_name": "Python [default]",
   "language": "python",
   "name": "python3"
  },
  "language_info": {
   "codemirror_mode": {
    "name": "ipython",
    "version": 3
   },
   "file_extension": ".py",
   "mimetype": "text/x-python",
   "name": "python",
   "nbconvert_exporter": "python",
   "pygments_lexer": "ipython3",
   "version": "3.5.6"
  }
 },
 "nbformat": 4,
 "nbformat_minor": 2
}
