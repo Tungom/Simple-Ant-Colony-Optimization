{
 "cells": [
  {
   "cell_type": "markdown",
   "metadata": {},
   "source": [
    "# Simple ant colony optimization (S-ACO)\n",
    "- We have the ability to construct a path with a single ant \n",
    "- Lets make a number of ants work together to find the shortest path\n",
    "- Now we introduce alpha to our probability to control the pheromone influence\n",
    "- Pheromone evaporation is also introduced in the update loop \n",
    "- The Algorithm is reconstructed with the modifications to get a simple ant colony algorithm"
   ]
  },
  {
   "cell_type": "markdown",
   "metadata": {},
   "source": [
    "# 1.1 Define Choice Mode\n",
    "- how do i make my next move\n",
    "- after making all moves i have to remove loops using a scanning strategy"
   ]
  },
  {
   "cell_type": "code",
   "execution_count": 1,
   "metadata": {},
   "outputs": [],
   "source": [
    "import random\n",
    "\n",
    "def NextNode(Connections, RouletteProb):\n",
    "    \n",
    "    \"\"\" takes a list of connections and corresponding Roulette probabilities\n",
    "    and returns an one connetion from the list of connetions \n",
    "    \n",
    "    connections: List of nodes\n",
    "    RouletteProb: List corresponding node roulette probability\n",
    "    returns: int Node choosen \"\"\"\n",
    "    \n",
    "    r = random.random()\n",
    "    for i in range(len(Connections)):\n",
    "        if i == 0 and r <= RouletteProb[i]:\n",
    "            return Connections[i]\n",
    "        elif r > RouletteProb[i] and r <= RouletteProb[i+1]:\n",
    "            return Connections[i+1]\n",
    "        \n",
    "# Eliminate Loops \n",
    "def Deloop(route):\n",
    "    l = len(route)\n",
    "    for i in range(l):\n",
    "        for j in range(i+1,l):\n",
    "            j = l+i-j\n",
    "            if j < len(route) and route[i] == route[j]:          # list changes as loop is removed \n",
    "                # print(\"Delooping:  \", x)\n",
    "                [route.remove(k) for k in route[i+1:j+1]]\n",
    "                # print(\"Delooped to: \", x)\n",
    "    return route"
   ]
  },
  {
   "cell_type": "markdown",
   "metadata": {},
   "source": [
    "# 1.2 Introduce alpha\n",
    "- control influence of pheromone on probability "
   ]
  },
  {
   "cell_type": "code",
   "execution_count": 2,
   "metadata": {},
   "outputs": [],
   "source": [
    "def Travel(costGraph, pheromoneGraph, source, destination, alpha = 1):\n",
    "    \"\"\" takes a \n",
    "    - connection graph (costGraph) a square matrix, \n",
    "    - pheromone graph (pheromoneGraph) a square matrix same size as costGraph, \n",
    "    - takeoff point (source) and destination are the int Node number\n",
    "    - alpha balances the pheromone influence \n",
    "    Returns a complete tour as a List\n",
    "    \"\"\"\n",
    "    \n",
    "    route = [source]\n",
    "    while source != destination:  \n",
    "        Connections = [i for i,j in enumerate(costGraph[source]) if j>0]    \n",
    "        pheromoneIJS = [ pheromoneGraph[source][i]**alpha for i in Connections]\n",
    "        ProbabilityIJS = [ i/sum(pheromoneIJS) for i in pheromoneIJS]\n",
    "        RouletteProb = [ sum(ProbabilityIJS[:i+1]) for i in range(len(ProbabilityIJS)) ]\n",
    "        source = NextNode(Connections, RouletteProb)\n",
    "        route.append(source)\n",
    "    \n",
    "    return Deloop(route)"
   ]
  },
  {
   "cell_type": "markdown",
   "metadata": {},
   "source": [
    "# 1.3 Introduce evoparation of pheromone rho\n",
    "\n",
    "- removes a proportion of pheromone from paths after every iteration "
   ]
  },
  {
   "cell_type": "code",
   "execution_count": 3,
   "metadata": {},
   "outputs": [],
   "source": [
    "def Updatepheromone(route, pheromoneGraph, rho = 0.5):\n",
    "    \"\"\" takes a route and use it to add pheromone to arcs in the \n",
    "    route\n",
    "    \n",
    "    route : route taken\n",
    "    pheromoneGraph: pheromone matrix\n",
    "    rho : evaporation rate \n",
    "    returns pheromone graph \"\"\"\n",
    "    \n",
    "    tau = 1/len(route)\n",
    "    # tau = 1\n",
    "    for i in range(len(route)-1):\n",
    "        pheromoneGraph[route[i]][route[i+1]] = (1-rho)*(pheromoneGraph[route[i]][route[i+1]]) + tau\n",
    "        pheromoneGraph[route[i+1]][route[i]] = (1-rho)*(pheromoneGraph[route[i+1]][route[i]]) + tau\n",
    "\n",
    "    return pheromoneGraph"
   ]
  },
  {
   "cell_type": "markdown",
   "metadata": {},
   "source": [
    "# 1.4 Finally Define the Algorithm \n",
    "- Use to find the shortest path "
   ]
  },
  {
   "cell_type": "code",
   "execution_count": 4,
   "metadata": {},
   "outputs": [],
   "source": [
    "def SACO(costGraph, takeoff, destination, Population = 8, alpha = 2, rho = 0, iterations = 100):\n",
    "    \n",
    "    \"\"\" takes a costgraph, takeoff point, destination point and number of times to travel (iterations)\n",
    "    and return a tour \"\"\"\n",
    "    length = len(costGraph)\n",
    "    PRM = [[1/length for i in range(length)] for j in range(length)]\n",
    "    Ants = {\"Ant\" + str(i+1): None for i in range(Population)}\n",
    "    \n",
    "    while iterations > 0:\n",
    "        #--------------TRAVEL-----------------------------------------\n",
    "        for ant in Ants:\n",
    "            Ants[ant] = Travel(costGraph, PRM, takeoff, destination, alpha)\n",
    "        #-------------UPDATE PHEROMONE--------------------------------\n",
    "        for ant in Ants:\n",
    "            PRM = Updatepheromone(Ants[ant], PRM, rho)\n",
    "        #-------------------------------------------------------------\n",
    "        iterations -= 1\n",
    "        #print(Route)\n",
    "    return {\"Ants\": Ants, \"PRM\":PRM}"
   ]
  },
  {
   "cell_type": "markdown",
   "metadata": {},
   "source": [
    "# 1.5 Solve the Double bridge Path problem"
   ]
  },
  {
   "cell_type": "code",
   "execution_count": 5,
   "metadata": {},
   "outputs": [
    {
     "data": {
      "text/plain": [
       "{'Ant1': [0, 9, 14, 17, 13, 8],\n",
       " 'Ant2': [0, 9, 14, 17, 13, 8],\n",
       " 'Ant3': [0, 9, 14, 17, 13, 8],\n",
       " 'Ant4': [0, 9, 14, 17, 13, 8],\n",
       " 'Ant5': [0, 9, 14, 17, 13, 8],\n",
       " 'Ant6': [0, 9, 14, 17, 13, 8],\n",
       " 'Ant7': [0, 9, 14, 17, 13, 8],\n",
       " 'Ant8': [0, 9, 14, 17, 13, 8]}"
      ]
     },
     "execution_count": 5,
     "metadata": {},
     "output_type": "execute_result"
    }
   ],
   "source": [
    "EDBM = [[0,1,0,0,0,0,0,0,0,1,0,0,0,0,0,0,0,0,0],\n",
    "        [1,0,1,0,0,0,0,0,0,0,0,0,0,0,0,0,0,0,0],\n",
    "        [0,1,0,1,0,0,0,0,0,0,0,0,0,0,0,0,0,0,0],\n",
    "        [0,0,1,0,1,0,0,0,0,0,0,0,0,0,0,0,0,0,0],\n",
    "        [0,0,0,1,0,1,0,0,0,0,0,0,0,0,0,0,0,0,0],\n",
    "        [0,0,0,0,1,0,1,0,0,0,0,0,0,0,0,0,0,0,0],\n",
    "        [0,0,0,0,0,1,0,1,0,0,0,0,0,0,0,0,0,0,0],\n",
    "        [0,0,0,0,0,0,1,0,1,0,0,0,0,0,0,0,0,0,0],\n",
    "        [0,0,0,0,0,0,0,1,0,0,0,0,0,1,0,0,0,0,0],\n",
    "        [1,0,0,0,0,0,0,0,0,0,1,0,0,0,1,0,0,0,0],\n",
    "        [0,0,0,0,0,0,0,0,0,1,0,1,1,0,0,1,0,0,0],\n",
    "        [0,0,0,0,0,0,0,0,0,0,1,0,1,0,0,0,0,0,0],\n",
    "        [0,0,0,0,0,0,0,0,0,0,1,1,0,1,0,0,1,0,0],\n",
    "        [0,0,0,0,0,0,0,0,1,0,0,0,1,0,0,0,0,1,0],\n",
    "        [0,0,0,0,0,0,0,0,0,1,0,0,0,0,0,1,0,1,1],\n",
    "        [0,0,0,0,0,0,0,0,0,0,1,0,0,0,1,0,1,0,0],\n",
    "        [0,0,0,0,0,0,0,0,0,0,0,0,1,0,0,1,0,1,0],\n",
    "        [0,0,0,0,0,0,0,0,0,0,0,0,0,1,1,0,1,0,1],\n",
    "        [0,0,0,0,0,0,0,0,0,0,0,0,0,0,1,0,0,1,0]]\n",
    "\n",
    "iterations = 11\n",
    "takeoff = 0\n",
    "destination = 8\n",
    "population = 8\n",
    "alpha = 2\n",
    "rho = 0\n",
    "\n",
    "Tour = SACO(EDBM, takeoff, destination, population, alpha, rho, iterations)\n",
    "Tour[\"Ants\"]"
   ]
  },
  {
   "cell_type": "markdown",
   "metadata": {},
   "source": [
    "# 1.6 Visualize Pheromone Intensity on Paths "
   ]
  },
  {
   "cell_type": "code",
   "execution_count": 6,
   "metadata": {},
   "outputs": [
    {
     "data": {
      "text/plain": [
       "<matplotlib.colorbar.Colorbar at 0x23d44b6ff28>"
      ]
     },
     "execution_count": 6,
     "metadata": {},
     "output_type": "execute_result"
    }
   ],
   "source": [
    "import numpy as np\n",
    "import matplotlib.pyplot as plt\n",
    "\n",
    "data = np.array(Tour[\"PRM\"])\n",
    "hm = plt.imshow(data, 'gray', origin='lower')\n",
    "\n",
    "plt.colorbar(hm)"
   ]
  },
  {
   "cell_type": "markdown",
   "metadata": {},
   "source": [
    "# 1.7 TODO\n",
    "\n",
    "- use the matrix provided to solve the shortest path problem \n",
    "- display the pheromone intensity map \n",
    "<img src=\"images/shortbridge.png\" width=\"400\"/>\n",
    "\n",
    "- The matrix is given below"
   ]
  },
  {
   "cell_type": "code",
   "execution_count": 7,
   "metadata": {},
   "outputs": [],
   "source": [
    "# Shortest path is [ 0,  3,  4]\n",
    "\n",
    "CIN = [[0,0,0,1,0,1,0],\n",
    "       [0,0,1,1,0,0,0],\n",
    "       [0,1,0,1,1,0,0],\n",
    "       [1,1,1,0,1,1,0],\n",
    "       [0,0,1,1,0,0,1],\n",
    "       [1,0,0,1,0,0,1],\n",
    "       [0,0,0,0,1,1,0]]"
   ]
  },
  {
   "cell_type": "code",
   "execution_count": null,
   "metadata": {},
   "outputs": [],
   "source": []
  }
 ],
 "metadata": {
  "kernelspec": {
   "display_name": "Python [default]",
   "language": "python",
   "name": "python3"
  },
  "language_info": {
   "codemirror_mode": {
    "name": "ipython",
    "version": 3
   },
   "file_extension": ".py",
   "mimetype": "text/x-python",
   "name": "python",
   "nbconvert_exporter": "python",
   "pygments_lexer": "ipython3",
   "version": "3.5.6"
  }
 },
 "nbformat": 4,
 "nbformat_minor": 2
}
