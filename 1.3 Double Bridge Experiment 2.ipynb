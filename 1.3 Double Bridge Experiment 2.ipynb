{
 "cells": [
  {
   "cell_type": "markdown",
   "metadata": {},
   "source": [
    "# Experiment 2\n",
    "\n",
    "The Goal of this experiment is to study the influence of alpha on the algorithm\n",
    "\n",
    "## 1.1 Experiment Setup \n",
    "- In this experiment, we want to measure the influence of alpha on the algorithm behavior\n",
    "- we will change the value of alpha by 0.25 from 1 to 2 \n",
    "- we will look at the bahavior of the algorithm by observing the number of long path the algorithm converges to"
   ]
  },
  {
   "cell_type": "code",
   "execution_count": 6,
   "metadata": {},
   "outputs": [],
   "source": [
    "\n",
    "longpath = [0, 1, 2, 3, 4, 5, 6, 7, 8]\n",
    "Shortpath1 = [0, 9, 10, 12, 13, 8]\n",
    "Shortpath2 = [0, 9, 14, 17, 13, 8]"
   ]
  },
  {
   "cell_type": "markdown",
   "metadata": {},
   "source": [
    "# 1.2 Define experiment Function\n"
   ]
  },
  {
   "cell_type": "code",
   "execution_count": 7,
   "metadata": {},
   "outputs": [],
   "source": [
    "def RunExperiment(Trials, Num_Ants, alpha, rho):\n",
    "    \"\"\" Trials: Number of trial runs \n",
    "        NUm_Ants: Population of ants int\n",
    "        alpha: pheromone influence\n",
    "        rho: evaporation rate \n",
    "        \n",
    "        return number of Long paths found\"\"\"\n",
    "    \n",
    "    Longs = 0\n",
    "    \n",
    "    i = 0\n",
    "    while i < Trials:\n",
    "        \n",
    "        #PRM = SACO(EDBM, takeoff, destination, population, alpha, rho, iterations)[\"PRM\"]\n",
    "        PRM = SACOAs.SACO(graph, takeoff, destination, Num_Ants, alpha, rho, \n",
    "                   iterations, dropout, bycost)[\"PRM\"]\n",
    "\n",
    "        LongPher = sum([PRM[j][longpath[i+1]] for i,j in enumerate(longpath) if i < len(longpath)-1])\n",
    "        ShortPher1 = sum([PRM[j][Shortpath1[i+1]] for i,j in enumerate(Shortpath1) if i < len(Shortpath1)-1])\n",
    "        ShortPher2 = sum([PRM[j][Shortpath2[i+1]] for i,j in enumerate(Shortpath2) if i < len(Shortpath2)-1])\n",
    "        \n",
    "        if LongPher > ShortPher1 and LongPher > ShortPher2:\n",
    "            Longs += 1\n",
    "        \n",
    "        i += 1\n",
    "    \n",
    "    return Longs"
   ]
  },
  {
   "cell_type": "markdown",
   "metadata": {},
   "source": [
    "# 1.3 Run Experiment \n",
    "\n",
    "- import graphs and algorithm \n",
    "- define experiment parameters"
   ]
  },
  {
   "cell_type": "code",
   "execution_count": 14,
   "metadata": {},
   "outputs": [
    {
     "name": "stdout",
     "output_type": "stream",
     "text": [
      "[1.0, 1.25, 1.5, 1.75, 2.0]\n"
     ]
    }
   ],
   "source": [
    "import graphs\n",
    "import SACOAs\n",
    "\n",
    "graph = graphs.graph1\n",
    "Trials = 100\n",
    "Num_Ants = 8\n",
    "alphas = [0.75+(i/4) for i in range(1,6)]\n",
    "rho = 0\n",
    "#----------------------------------------\n",
    "print(alphas)"
   ]
  },
  {
   "cell_type": "markdown",
   "metadata": {},
   "source": [
    "# 1.4 Loop Over Alphas"
   ]
  },
  {
   "cell_type": "code",
   "execution_count": 15,
   "metadata": {},
   "outputs": [
    {
     "name": "stdout",
     "output_type": "stream",
     "text": [
      " For Alpha =  1.0  the Number of Long Paths are  0  in  100\n",
      " For Alpha =  1.25  the Number of Long Paths are  0  in  100\n",
      " For Alpha =  1.5  the Number of Long Paths are  3  in  100\n",
      " For Alpha =  1.75  the Number of Long Paths are  2  in  100\n",
      " For Alpha =  2.0  the Number of Long Paths are  4  in  100\n"
     ]
    }
   ],
   "source": [
    "iterations = 100\n",
    "takeoff = 0\n",
    "destination = 8\n",
    "dropout = False\n",
    "bycost = True\n",
    "\n",
    "for alpha in alphas:\n",
    "    print(\" For Alpha = \", alpha , \" the Number of Long Paths are \", \n",
    "          RunExperiment(Trials, Num_Ants , alpha, rho), \" in \", Trials)"
   ]
  },
  {
   "cell_type": "markdown",
   "metadata": {},
   "source": [
    "# TODO\n",
    "\n",
    "- Use graph2 and repeat the experiment above"
   ]
  },
  {
   "cell_type": "code",
   "execution_count": null,
   "metadata": {},
   "outputs": [],
   "source": []
  }
 ],
 "metadata": {
  "kernelspec": {
   "display_name": "Python [default]",
   "language": "python",
   "name": "python3"
  },
  "language_info": {
   "codemirror_mode": {
    "name": "ipython",
    "version": 3
   },
   "file_extension": ".py",
   "mimetype": "text/x-python",
   "name": "python",
   "nbconvert_exporter": "python",
   "pygments_lexer": "ipython3",
   "version": "3.5.6"
  }
 },
 "nbformat": 4,
 "nbformat_minor": 2
}
